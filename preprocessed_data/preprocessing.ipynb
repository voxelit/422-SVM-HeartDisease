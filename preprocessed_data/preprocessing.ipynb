{
 "cells": [
  {
   "metadata": {
    "ExecuteTime": {
     "end_time": "2024-04-29T06:49:51.385496Z",
     "start_time": "2024-04-29T06:49:51.381503Z"
    }
   },
   "cell_type": "code",
   "source": "import pandas as pd",
   "id": "d4bfe4990c8e4b4d",
   "outputs": [],
   "execution_count": 78
  },
  {
   "metadata": {
    "ExecuteTime": {
     "end_time": "2024-04-29T06:49:52.042588Z",
     "start_time": "2024-04-29T06:49:51.395369Z"
    }
   },
   "cell_type": "code",
   "source": "data = pd.read_csv('heart_2022_no_nans.csv')",
   "id": "1f6e7c85904ee35b",
   "outputs": [],
   "execution_count": 79
  },
  {
   "metadata": {
    "ExecuteTime": {
     "end_time": "2024-04-29T06:49:52.524346Z",
     "start_time": "2024-04-29T06:49:52.043554Z"
    }
   },
   "cell_type": "code",
   "source": [
    "# Converting Binary Features to 0/1\n",
    "binary_features = [\"PhysicalActivities\", \"HadHeartAttack\",\"HadAngina\", \"HadStroke\", \"HadAsthma\", \"HadSkinCancer\", \"HadCOPD\", \"HadDepressiveDisorder\", \"HadKidneyDisease\", \"HadArthritis\", \"DeafOrHardOfHearing\", \"BlindOrVisionDifficulty\", \"DifficultyConcentrating\", \"DifficultyWalking\", \"DifficultyDressingBathing\", \"DifficultyErrands\", \"ChestScan\", \"AlcoholDrinkers\", \"HIVTesting\", \"FluVaxLast12\", \"PneumoVaxEver\", \"HighRiskLastYear\"]\n",
    "data[binary_features] = data[binary_features].replace(to_replace = ['Yes','No'],value = [1.0,0.0])"
   ],
   "id": "4f9d9faaa2bf5161",
   "outputs": [],
   "execution_count": 80
  },
  {
   "metadata": {
    "ExecuteTime": {
     "end_time": "2024-04-29T06:49:52.609650Z",
     "start_time": "2024-04-29T06:49:52.525007Z"
    }
   },
   "cell_type": "code",
   "source": [
    "#convert sex to binary (1 is male\n",
    "data['Sex'] = pd.get_dummies(data['Sex'])['Male'].astype(float)\n",
    "data = data.rename(columns={'Sex':'Male'})"
   ],
   "id": "82e9bd115b12a4b5",
   "outputs": [],
   "execution_count": 81
  },
  {
   "metadata": {
    "ExecuteTime": {
     "end_time": "2024-04-29T06:49:52.654889Z",
     "start_time": "2024-04-29T06:49:52.611146Z"
    }
   },
   "cell_type": "code",
   "source": [
    "#convert generalhealth to ordinal data\n",
    "data['GeneralHealth'] = data['GeneralHealth'].replace(to_replace = ['Excellent','Very good', 'Good', 'Fair', 'Poor'],value = [4.0,3.0,2.0,1.0,0.0])"
   ],
   "id": "43757a8c7e7f8361",
   "outputs": [],
   "execution_count": 82
  },
  {
   "metadata": {
    "ExecuteTime": {
     "end_time": "2024-04-29T06:49:52.686347Z",
     "start_time": "2024-04-29T06:49:52.655603Z"
    }
   },
   "cell_type": "code",
   "source": [
    "#convert lastcheckuptime to ordinal data\n",
    "data['LastCheckupTime'] = data['LastCheckupTime'].replace(to_replace = ['Within past year (anytime less than 12 months ago)', 'Within past 2 years (1 year but less than 2 years ago)', 'Within past 5 years (2 years but less than 5 years ago)', '5 or more years ago'],value = [3.0,2.0,1.0,0.0])"
   ],
   "id": "5377d5558a38930a",
   "outputs": [],
   "execution_count": 83
  },
  {
   "metadata": {
    "ExecuteTime": {
     "end_time": "2024-04-29T06:49:52.720381Z",
     "start_time": "2024-04-29T06:49:52.686911Z"
    }
   },
   "cell_type": "code",
   "source": [
    "#convert removedteeth to ordinal data\n",
    "data['RemovedTeeth'] = data['RemovedTeeth'].replace(to_replace = ['All', '6 or more, but not all', '1 to 5', 'None of them'],value = [3.0,2.0,1.0,0.0])"
   ],
   "id": "2d06175d5c6658fb",
   "outputs": [],
   "execution_count": 84
  },
  {
   "metadata": {
    "ExecuteTime": {
     "end_time": "2024-04-29T06:49:52.753537Z",
     "start_time": "2024-04-29T06:49:52.721073Z"
    }
   },
   "cell_type": "code",
   "source": [
    "#convert smokerstatus to ordinal data\n",
    "data['SmokerStatus'] = data['SmokerStatus'].replace(to_replace = ['Never smoked', 'Former smoker', 'Current smoker - now smokes some days', 'Current smoker - now smokes every day'],value = [3.0,2.0,1.0,0.0])"
   ],
   "id": "fba78e25078a97f2",
   "outputs": [],
   "execution_count": 85
  },
  {
   "metadata": {
    "ExecuteTime": {
     "end_time": "2024-04-29T06:49:52.785657Z",
     "start_time": "2024-04-29T06:49:52.754315Z"
    }
   },
   "cell_type": "code",
   "source": [
    "#convert ecigaretteusage to ordinal data\n",
    "data['ECigaretteUsage'] = data['ECigaretteUsage'].replace(to_replace = ['Never used e-cigarettes in my entire life', 'Not at all (right now)','Use them some days', 'Use them every day'],value = [3.0,2.0,1.0,0.0])"
   ],
   "id": "f4c0271cdb522d7f",
   "outputs": [],
   "execution_count": 86
  },
  {
   "metadata": {
    "ExecuteTime": {
     "end_time": "2024-04-29T06:49:52.846163Z",
     "start_time": "2024-04-29T06:49:52.786352Z"
    }
   },
   "cell_type": "code",
   "source": [
    "#convert agecategory to ordinal data\n",
    "data['AgeCategory'] = data['AgeCategory'].replace(to_replace = ['Age 80 or older','Age 75 to 79', 'Age 70 to 74', 'Age 65 to 69', 'Age 60 to 64', 'Age 55 to 59', 'Age 50 to 54', 'Age 45 to 49', 'Age 40 to 44', 'Age 35 to 39', 'Age 30 to 34', 'Age 25 to 29', 'Age 18 to 24'],value = [12.0,11.0,10.0,9.0,8.0,7.0,6.0,5.0,4.0,3.0,2.0,1.0,0.0])"
   ],
   "id": "3cea35df2c8423f6",
   "outputs": [],
   "execution_count": 87
  },
  {
   "metadata": {
    "ExecuteTime": {
     "end_time": "2024-04-29T06:49:52.878276Z",
     "start_time": "2024-04-29T06:49:52.848085Z"
    }
   },
   "cell_type": "code",
   "source": [
    "#convert TetanusLast10Tdap to binary (yes or no tetanus shot)\n",
    "data['TetanusLast10Tdap'] = data['TetanusLast10Tdap'].replace(to_replace = ['Yes, received Tdap','Yes, received tetanus shot but not sure what type', 'Yes, received tetanus shot, but not Tdap', 'No, did not receive any tetanus shot in the past 10 years'],value = [1.0,1.0,1.0,0.0])"
   ],
   "id": "7e89eb431ad340f7",
   "outputs": [],
   "execution_count": 88
  },
  {
   "metadata": {
    "ExecuteTime": {
     "end_time": "2024-04-29T06:49:52.910537Z",
     "start_time": "2024-04-29T06:49:52.878975Z"
    }
   },
   "cell_type": "code",
   "source": [
    "#convert hadDiabetes to ordinal data\n",
    "data['HadDiabetes'] = data['HadDiabetes'].replace(to_replace = ['No','Yes, but only during pregnancy (female)', 'No, pre-diabetes or borderline diabetes', 'Yes'],value = [3.0,2.0,1.0,0.0])"
   ],
   "id": "d085eadc1f13a3ff",
   "outputs": [],
   "execution_count": 89
  },
  {
   "metadata": {
    "ExecuteTime": {
     "end_time": "2024-04-29T06:49:52.938770Z",
     "start_time": "2024-04-29T06:49:52.911108Z"
    }
   },
   "cell_type": "code",
   "source": [
    "#convert CovidPos to binary\n",
    "data['CovidPos'] = data['CovidPos'].replace(to_replace = ['Yes', 'Tested positive using home test without a health professional', 'No'],value = [1.0,1.0,0.0])"
   ],
   "id": "6655627e15379263",
   "outputs": [],
   "execution_count": 90
  },
  {
   "metadata": {
    "ExecuteTime": {
     "end_time": "2024-04-29T06:49:52.983263Z",
     "start_time": "2024-04-29T06:49:52.939463Z"
    }
   },
   "cell_type": "code",
   "source": [
    "#use one hot encoding on race/ethnicity category\n",
    "races = pd.get_dummies(data['RaceEthnicityCategory']).astype(float)\n",
    "data = data.join(races)\n",
    "data = data.drop('RaceEthnicityCategory', axis=1)"
   ],
   "id": "1128605821b86fd2",
   "outputs": [],
   "execution_count": 91
  },
  {
   "metadata": {
    "ExecuteTime": {
     "end_time": "2024-04-29T06:49:53.040633Z",
     "start_time": "2024-04-29T06:49:52.983902Z"
    }
   },
   "cell_type": "code",
   "source": "data.nunique()",
   "id": "b54a5b60341814a4",
   "outputs": [
    {
     "data": {
      "text/plain": [
       "State                              54\n",
       "Male                                2\n",
       "GeneralHealth                       5\n",
       "PhysicalHealthDays                 31\n",
       "MentalHealthDays                   31\n",
       "LastCheckupTime                     4\n",
       "PhysicalActivities                  2\n",
       "SleepHours                         23\n",
       "RemovedTeeth                        4\n",
       "HadHeartAttack                      2\n",
       "HadAngina                           2\n",
       "HadStroke                           2\n",
       "HadAsthma                           2\n",
       "HadSkinCancer                       2\n",
       "HadCOPD                             2\n",
       "HadDepressiveDisorder               2\n",
       "HadKidneyDisease                    2\n",
       "HadArthritis                        2\n",
       "HadDiabetes                         4\n",
       "DeafOrHardOfHearing                 2\n",
       "BlindOrVisionDifficulty             2\n",
       "DifficultyConcentrating             2\n",
       "DifficultyWalking                   2\n",
       "DifficultyDressingBathing           2\n",
       "DifficultyErrands                   2\n",
       "SmokerStatus                        4\n",
       "ECigaretteUsage                     4\n",
       "ChestScan                           2\n",
       "AgeCategory                        13\n",
       "HeightInMeters                    101\n",
       "WeightInKilograms                 516\n",
       "BMI                              3514\n",
       "AlcoholDrinkers                     2\n",
       "HIVTesting                          2\n",
       "FluVaxLast12                        2\n",
       "PneumoVaxEver                       2\n",
       "TetanusLast10Tdap                   2\n",
       "HighRiskLastYear                    2\n",
       "CovidPos                            2\n",
       "Black only, Non-Hispanic            2\n",
       "Hispanic                            2\n",
       "Multiracial, Non-Hispanic           2\n",
       "Other race only, Non-Hispanic       2\n",
       "White only, Non-Hispanic            2\n",
       "dtype: int64"
      ]
     },
     "execution_count": 92,
     "metadata": {},
     "output_type": "execute_result"
    }
   ],
   "execution_count": 92
  },
  {
   "metadata": {
    "ExecuteTime": {
     "end_time": "2024-04-29T06:49:54.953853Z",
     "start_time": "2024-04-29T06:49:53.041280Z"
    }
   },
   "cell_type": "code",
   "source": "data.to_csv('heart_2022_no_nans_preprocessed.csv', index=False)",
   "id": "a175e25efb4bf5d8",
   "outputs": [],
   "execution_count": 93
  }
 ],
 "metadata": {
  "kernelspec": {
   "display_name": "Python 3",
   "language": "python",
   "name": "python3"
  },
  "language_info": {
   "codemirror_mode": {
    "name": "ipython",
    "version": 2
   },
   "file_extension": ".py",
   "mimetype": "text/x-python",
   "name": "python",
   "nbconvert_exporter": "python",
   "pygments_lexer": "ipython2",
   "version": "2.7.6"
  }
 },
 "nbformat": 4,
 "nbformat_minor": 5
}
